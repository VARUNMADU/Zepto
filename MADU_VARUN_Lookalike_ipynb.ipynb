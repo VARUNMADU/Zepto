{
  "nbformat": 4,
  "nbformat_minor": 0,
  "metadata": {
    "colab": {
      "provenance": []
    },
    "kernelspec": {
      "name": "python3",
      "display_name": "Python 3"
    },
    "language_info": {
      "name": "python"
    }
  },
  "cells": [
    {
      "cell_type": "code",
      "execution_count": 1,
      "metadata": {
        "colab": {
          "base_uri": "https://localhost:8080/"
        },
        "id": "QfI-0bX68n4C",
        "outputId": "9384ea09-e7bd-417f-8d8f-035a399809d5"
      },
      "outputs": [
        {
          "output_type": "stream",
          "name": "stdout",
          "text": [
            "Requirement already satisfied: pandas in /usr/local/lib/python3.11/dist-packages (2.2.2)\n",
            "Requirement already satisfied: numpy in /usr/local/lib/python3.11/dist-packages (1.26.4)\n",
            "Requirement already satisfied: matplotlib in /usr/local/lib/python3.11/dist-packages (3.10.0)\n",
            "Requirement already satisfied: seaborn in /usr/local/lib/python3.11/dist-packages (0.13.2)\n",
            "Requirement already satisfied: scikit-learn in /usr/local/lib/python3.11/dist-packages (1.6.1)\n",
            "Requirement already satisfied: python-dateutil>=2.8.2 in /usr/local/lib/python3.11/dist-packages (from pandas) (2.8.2)\n",
            "Requirement already satisfied: pytz>=2020.1 in /usr/local/lib/python3.11/dist-packages (from pandas) (2024.2)\n",
            "Requirement already satisfied: tzdata>=2022.7 in /usr/local/lib/python3.11/dist-packages (from pandas) (2025.1)\n",
            "Requirement already satisfied: contourpy>=1.0.1 in /usr/local/lib/python3.11/dist-packages (from matplotlib) (1.3.1)\n",
            "Requirement already satisfied: cycler>=0.10 in /usr/local/lib/python3.11/dist-packages (from matplotlib) (0.12.1)\n",
            "Requirement already satisfied: fonttools>=4.22.0 in /usr/local/lib/python3.11/dist-packages (from matplotlib) (4.55.4)\n",
            "Requirement already satisfied: kiwisolver>=1.3.1 in /usr/local/lib/python3.11/dist-packages (from matplotlib) (1.4.8)\n",
            "Requirement already satisfied: packaging>=20.0 in /usr/local/lib/python3.11/dist-packages (from matplotlib) (24.2)\n",
            "Requirement already satisfied: pillow>=8 in /usr/local/lib/python3.11/dist-packages (from matplotlib) (11.1.0)\n",
            "Requirement already satisfied: pyparsing>=2.3.1 in /usr/local/lib/python3.11/dist-packages (from matplotlib) (3.2.1)\n",
            "Requirement already satisfied: scipy>=1.6.0 in /usr/local/lib/python3.11/dist-packages (from scikit-learn) (1.13.1)\n",
            "Requirement already satisfied: joblib>=1.2.0 in /usr/local/lib/python3.11/dist-packages (from scikit-learn) (1.4.2)\n",
            "Requirement already satisfied: threadpoolctl>=3.1.0 in /usr/local/lib/python3.11/dist-packages (from scikit-learn) (3.5.0)\n",
            "Requirement already satisfied: six>=1.5 in /usr/local/lib/python3.11/dist-packages (from python-dateutil>=2.8.2->pandas) (1.17.0)\n"
          ]
        }
      ],
      "source": [
        "pip install pandas numpy matplotlib seaborn scikit-learn\n"
      ]
    },
    {
      "cell_type": "code",
      "source": [
        "import pandas as pd\n",
        "import numpy as np\n",
        "import matplotlib.pyplot as plt\n",
        "import seaborn as sns\n",
        "from sklearn.neighbors import NearestNeighbors\n",
        "from sklearn.cluster import KMeans\n",
        "from sklearn.metrics import davies_bouldin_score\n",
        "from sklearn.preprocessing import StandardScaler\n"
      ],
      "metadata": {
        "id": "35WF8ZYn8zzV"
      },
      "execution_count": 2,
      "outputs": []
    },
    {
      "cell_type": "code",
      "source": [
        "# Merge data\n",
        "data = transactions.merge(customers, on='CustomerID').merge(products, on='ProductID')\n",
        "\n",
        "# Aggregate customer metrics\n",
        "customer_features = data.groupby('CustomerID').agg({\n",
        "    'TotalValue': 'sum',\n",
        "    'ProductID': 'nunique',\n",
        "    'TransactionID': 'count'\n",
        "}).rename(columns={'TotalValue': 'TotalSpent', 'ProductID': 'UniqueProducts', 'TransactionID': 'TotalTransactions'})\n",
        "\n",
        "print(customer_features.head())\n"
      ],
      "metadata": {
        "colab": {
          "base_uri": "https://localhost:8080/"
        },
        "id": "6IdzdCL7BpGL",
        "outputId": "2aa1ccd5-5f37-45e5-ccd3-f5850221a7a4"
      },
      "execution_count": 10,
      "outputs": [
        {
          "output_type": "stream",
          "name": "stdout",
          "text": [
            "            TotalSpent  UniqueProducts  TotalTransactions\n",
            "CustomerID                                               \n",
            "C0001          3354.52               5                  5\n",
            "C0002          1862.74               4                  4\n",
            "C0003          2725.38               4                  4\n",
            "C0004          5354.88               8                  8\n",
            "C0005          2034.24               3                  3\n"
          ]
        }
      ]
    },
    {
      "cell_type": "code",
      "source": [
        "# Ensure n_neighbors is within valid range\n",
        "n_neighbors = min(len(scaled_features), 4)\n",
        "\n",
        "model = NearestNeighbors(n_neighbors=n_neighbors, metric='cosine')\n",
        "model.fit(scaled_features)\n",
        "\n",
        "lookalikes = {}\n",
        "for i, customer in enumerate(customer_features.index[:20]):\n",
        "    # Fetch neighbors for the current customer\n",
        "    distances, indices = model.kneighbors([scaled_features[i]])\n",
        "\n",
        "    # Avoid out-of-bound errors and self-match\n",
        "    lookalikes[customer] = [\n",
        "        (customer_features.index[j], distances[0][k])\n",
        "        for k, j in enumerate(indices[0]) if j != i\n",
        "    ]\n",
        "\n",
        "print(lookalikes)\n"
      ],
      "metadata": {
        "colab": {
          "base_uri": "https://localhost:8080/"
        },
        "id": "YYiRM-b1Budb",
        "outputId": "72792984-21b0-4b76-fc3c-eec25c673373"
      },
      "execution_count": 12,
      "outputs": [
        {
          "output_type": "stream",
          "name": "stdout",
          "text": [
            "{'C0001': [('C0137', 0.003667657454288764), ('C0152', 0.013095351798187771), ('C0056', 0.06957342601465233)], 'C0002': [('C0029', 0.0002422080031764251), ('C0199', 0.00065307902551337), ('C0010', 0.0008181996361311672)], 'C0003': [('C0178', 5.081272465734532e-05), ('C0112', 0.0004295745385458627), ('C0131', 0.0004301212729144188)], 'C0004': [('C0021', 9.707724585339417e-05), ('C0075', 0.00022513237349808257), ('C0108', 0.0006845703848219475)], 'C0005': [('C0073', 3.353485602908268e-05), ('C0144', 4.643260952008621e-05), ('C0095', 5.336776390696407e-05)], 'C0006': [('C0079', 0.00010308278191162312), ('C0117', 0.008447647737665709), ('C0196', 0.04544005373437299)], 'C0007': [('C0085', 2.3800428107234595e-05), ('C0193', 0.000677995537777587), ('C0120', 0.0008071473753447078)], 'C0008': [('C0194', 0.00063301940126681), ('C0179', 0.001313500951214297), ('C0139', 0.002303421283235796)], 'C0009': [('C0077', 6.415667527348567e-05), ('C0142', 0.0003577859788136406), ('C0032', 0.0008537553493264127)], 'C0010': [('C0029', 0.00017010961196306518), ('C0025', 0.0005093330493192161), ('C0002', 0.0008181996361311672)], 'C0011': [('C0183', 0.005277392828612948), ('C0048', 0.005322016417877329), ('C0016', 0.0067868362084236855)], 'C0012': [('C0102', 0.003754960059770829), ('C0145', 0.008847650101276971), ('C0188', 0.010183530355693193)], 'C0013': [('C0045', 8.70408746178608e-06), ('C0153', 0.0002514412773847452), ('C0059', 0.00028144510128769173)], 'C0014': [('C0015', 4.729412471582428e-05), ('C0058', 6.540490520889897e-05), ('C0151', 9.401818034537879e-05)], 'C0015': [('C0058', 1.5168994083381016e-05), ('C0131', 4.618960367985814e-05), ('C0014', 4.729412471582428e-05)], 'C0016': [('C0048', 8.919491370762422e-05), ('C0183', 9.508572566119255e-05), ('C0064', 0.0020522829108188256)], 'C0017': [('C0162', 6.872869843821405e-05), ('C0124', 0.0003479313678768081), ('C0090', 0.0026090029341295784)], 'C0018': [('C0200', 8.178078619858198e-07), ('C0170', 2.6459054260685733e-05), ('C0182', 4.364134692202981e-05)], 'C0019': [('C0172', 1.9431343123876843e-05), ('C0116', 0.03942379785768535), ('C0034', 0.11827059308846721)], 'C0020': [('C0110', 5.308918773039295e-06), ('C0078', 7.224804214345237e-05), ('C0080', 9.811458584640942e-05)]}\n"
          ]
        }
      ]
    }
  ]
}